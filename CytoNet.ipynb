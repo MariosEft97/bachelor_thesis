{
 "cells": [
  {
   "cell_type": "markdown",
   "id": "27a69612-39ec-44d9-9d9a-026e9f3a74bc",
   "metadata": {},
   "source": [
    "## Computational Analysis of virus-host protein interactions\n",
    "### A case study of HPV16 E7 oncogene and human POU5F1 transcription factor"
   ]
  },
  {
   "cell_type": "markdown",
   "id": "c6083885-b641-4c05-a100-164e19bf6bbc",
   "metadata": {},
   "source": [
    "### Load packages"
   ]
  },
  {
   "cell_type": "code",
   "execution_count": 1,
   "id": "633feff8-08bc-46d9-a11a-19309470a8bd",
   "metadata": {},
   "outputs": [],
   "source": [
    "import pandas as pd\n",
    "\n",
    "import CytoNet\n",
    "\n",
    "from importlib import reload\n",
    "\n",
    "import warnings\n",
    "warnings.filterwarnings(\"ignore\")"
   ]
  },
  {
   "cell_type": "markdown",
   "id": "48ab6f96-d994-4a25-b097-5a145788563a",
   "metadata": {},
   "source": [
    "### Reload packages (if changes were made)"
   ]
  },
  {
   "cell_type": "code",
   "execution_count": 16,
   "id": "5ff79eb6-667f-4546-b0b2-2db5d82e919c",
   "metadata": {},
   "outputs": [],
   "source": [
    "reload(CytoNet);"
   ]
  },
  {
   "cell_type": "markdown",
   "id": "53328c1e-4853-4858-b6c5-e856e77e2489",
   "metadata": {},
   "source": [
    "### Load data"
   ]
  },
  {
   "cell_type": "code",
   "execution_count": 3,
   "id": "a8fd36f1-b81d-44ba-910f-f970383125e5",
   "metadata": {},
   "outputs": [],
   "source": [
    "oct4_data_filepath = r'data\\oct4_data.txt'\n",
    "e7_data_filepath = r\"data\\e7_data.txt\""
   ]
  },
  {
   "cell_type": "code",
   "execution_count": 7,
   "id": "1a24287e-2edc-4496-9b8b-8e57ad001058",
   "metadata": {},
   "outputs": [],
   "source": [
    "# oct4_data_df = pd.read_csv(oct4_data_filepath, '\\t')\n",
    "# e7_data_df = pd.read_csv(e7_data_filepath, '\\t')"
   ]
  },
  {
   "cell_type": "code",
   "execution_count": 8,
   "id": "d35fba73-4fdb-4c7f-bba7-8125b74d77be",
   "metadata": {},
   "outputs": [],
   "source": [
    "oct4_datatable = CytoNet.reader(data_filepath=oct4_data_filepath)"
   ]
  },
  {
   "cell_type": "code",
   "execution_count": 9,
   "id": "493d37f0-32bf-4570-9602-9afe15ca434d",
   "metadata": {},
   "outputs": [],
   "source": [
    "e7_datatable = CytoNet.reader(data_filepath=e7_data_filepath)"
   ]
  },
  {
   "cell_type": "markdown",
   "id": "95663db2-be2f-4b74-afc4-9c30083c9758",
   "metadata": {},
   "source": [
    "### Calculate Interaction Scores"
   ]
  },
  {
   "cell_type": "code",
   "execution_count": 12,
   "id": "7cccb2ce-b50e-483c-888a-30b655a8390d",
   "metadata": {},
   "outputs": [],
   "source": [
    "oct4_interaction_score_df = CytoNet.calculator(datatable=oct4_datatable, protein=\"oct4\")"
   ]
  },
  {
   "cell_type": "code",
   "execution_count": 13,
   "id": "c029d9e2-7c55-4574-b262-d981f27b131a",
   "metadata": {},
   "outputs": [
    {
     "data": {
      "text/html": [
       "<div>\n",
       "<style scoped>\n",
       "    .dataframe tbody tr th:only-of-type {\n",
       "        vertical-align: middle;\n",
       "    }\n",
       "\n",
       "    .dataframe tbody tr th {\n",
       "        vertical-align: top;\n",
       "    }\n",
       "\n",
       "    .dataframe thead th {\n",
       "        text-align: right;\n",
       "    }\n",
       "</style>\n",
       "<table border=\"1\" class=\"dataframe\">\n",
       "  <thead>\n",
       "    <tr style=\"text-align: right;\">\n",
       "      <th></th>\n",
       "      <th>Source</th>\n",
       "      <th>Source ID</th>\n",
       "      <th>Target</th>\n",
       "      <th>Target ID</th>\n",
       "      <th>Weight</th>\n",
       "      <th>Interaction</th>\n",
       "      <th>Methods</th>\n",
       "      <th>Publications</th>\n",
       "    </tr>\n",
       "  </thead>\n",
       "  <tbody>\n",
       "    <tr>\n",
       "      <th>1</th>\n",
       "      <td>POU5F1</td>\n",
       "      <td>Q01860</td>\n",
       "      <td>WWP2</td>\n",
       "      <td>O00308</td>\n",
       "      <td>0.892</td>\n",
       "      <td>Strong</td>\n",
       "      <td>6</td>\n",
       "      <td>4</td>\n",
       "    </tr>\n",
       "    <tr>\n",
       "      <th>2</th>\n",
       "      <td>POU5F1</td>\n",
       "      <td>Q01860</td>\n",
       "      <td>UBE2E1</td>\n",
       "      <td>P51965</td>\n",
       "      <td>0.101</td>\n",
       "      <td>Weak</td>\n",
       "      <td>1</td>\n",
       "      <td>1</td>\n",
       "    </tr>\n",
       "    <tr>\n",
       "      <th>3</th>\n",
       "      <td>POU5F1</td>\n",
       "      <td>Q01860</td>\n",
       "      <td>E7</td>\n",
       "      <td>P03129</td>\n",
       "      <td>0.281</td>\n",
       "      <td>Weak</td>\n",
       "      <td>2</td>\n",
       "      <td>2</td>\n",
       "    </tr>\n",
       "    <tr>\n",
       "      <th>4</th>\n",
       "      <td>POU5F1</td>\n",
       "      <td>Q01860</td>\n",
       "      <td>FOXD3</td>\n",
       "      <td>Q9UJU5</td>\n",
       "      <td>0.295</td>\n",
       "      <td>Weak</td>\n",
       "      <td>4</td>\n",
       "      <td>1</td>\n",
       "    </tr>\n",
       "    <tr>\n",
       "      <th>5</th>\n",
       "      <td>POU5F1</td>\n",
       "      <td>Q01860</td>\n",
       "      <td>MNAT1</td>\n",
       "      <td>P51948</td>\n",
       "      <td>0.103</td>\n",
       "      <td>Weak</td>\n",
       "      <td>2</td>\n",
       "      <td>1</td>\n",
       "    </tr>\n",
       "  </tbody>\n",
       "</table>\n",
       "</div>"
      ],
      "text/plain": [
       "   Source Source ID  Target Target ID  Weight Interaction  Methods  \\\n",
       "1  POU5F1    Q01860    WWP2    O00308   0.892      Strong        6   \n",
       "2  POU5F1    Q01860  UBE2E1    P51965   0.101        Weak        1   \n",
       "3  POU5F1    Q01860      E7    P03129   0.281        Weak        2   \n",
       "4  POU5F1    Q01860   FOXD3    Q9UJU5   0.295        Weak        4   \n",
       "5  POU5F1    Q01860   MNAT1    P51948   0.103        Weak        2   \n",
       "\n",
       "   Publications  \n",
       "1             4  \n",
       "2             1  \n",
       "3             2  \n",
       "4             1  \n",
       "5             1  "
      ]
     },
     "execution_count": 13,
     "metadata": {},
     "output_type": "execute_result"
    }
   ],
   "source": [
    "oct4_interaction_score_df.head()"
   ]
  },
  {
   "cell_type": "code",
   "execution_count": 14,
   "id": "f281236b-944f-414b-b3e1-5063740f2136",
   "metadata": {},
   "outputs": [],
   "source": [
    "e7_interaction_score_df = CytoNet.calculator(datatable=e7_datatable, protein=\"e7\")"
   ]
  },
  {
   "cell_type": "code",
   "execution_count": 15,
   "id": "a9c1bf58-a227-4d80-8bbc-1637947887c7",
   "metadata": {},
   "outputs": [
    {
     "data": {
      "text/html": [
       "<div>\n",
       "<style scoped>\n",
       "    .dataframe tbody tr th:only-of-type {\n",
       "        vertical-align: middle;\n",
       "    }\n",
       "\n",
       "    .dataframe tbody tr th {\n",
       "        vertical-align: top;\n",
       "    }\n",
       "\n",
       "    .dataframe thead th {\n",
       "        text-align: right;\n",
       "    }\n",
       "</style>\n",
       "<table border=\"1\" class=\"dataframe\">\n",
       "  <thead>\n",
       "    <tr style=\"text-align: right;\">\n",
       "      <th></th>\n",
       "      <th>Source</th>\n",
       "      <th>Source ID</th>\n",
       "      <th>Target</th>\n",
       "      <th>Target ID</th>\n",
       "      <th>Weight</th>\n",
       "      <th>Interaction</th>\n",
       "      <th>Methods</th>\n",
       "      <th>Publications</th>\n",
       "    </tr>\n",
       "  </thead>\n",
       "  <tbody>\n",
       "    <tr>\n",
       "      <th>1</th>\n",
       "      <td>E7</td>\n",
       "      <td>P03129</td>\n",
       "      <td>E7</td>\n",
       "      <td>P06465</td>\n",
       "      <td>0.033</td>\n",
       "      <td>Weak</td>\n",
       "      <td>2</td>\n",
       "      <td>2</td>\n",
       "    </tr>\n",
       "    <tr>\n",
       "      <th>2</th>\n",
       "      <td>E7</td>\n",
       "      <td>P03129</td>\n",
       "      <td>RB1</td>\n",
       "      <td>P06400</td>\n",
       "      <td>1.000</td>\n",
       "      <td>Strong</td>\n",
       "      <td>11</td>\n",
       "      <td>18</td>\n",
       "    </tr>\n",
       "    <tr>\n",
       "      <th>3</th>\n",
       "      <td>E7</td>\n",
       "      <td>P03129</td>\n",
       "      <td>E2F3</td>\n",
       "      <td>O00716</td>\n",
       "      <td>0.026</td>\n",
       "      <td>Weak</td>\n",
       "      <td>2</td>\n",
       "      <td>2</td>\n",
       "    </tr>\n",
       "    <tr>\n",
       "      <th>4</th>\n",
       "      <td>E7</td>\n",
       "      <td>P03129</td>\n",
       "      <td>UBR4</td>\n",
       "      <td>Q5T4S7</td>\n",
       "      <td>0.216</td>\n",
       "      <td>Medium</td>\n",
       "      <td>6</td>\n",
       "      <td>3</td>\n",
       "    </tr>\n",
       "    <tr>\n",
       "      <th>5</th>\n",
       "      <td>E7</td>\n",
       "      <td>P03129</td>\n",
       "      <td>PRKAR1A</td>\n",
       "      <td>P10644</td>\n",
       "      <td>0.030</td>\n",
       "      <td>Weak</td>\n",
       "      <td>1</td>\n",
       "      <td>1</td>\n",
       "    </tr>\n",
       "  </tbody>\n",
       "</table>\n",
       "</div>"
      ],
      "text/plain": [
       "  Source Source ID   Target Target ID  Weight Interaction  Methods  \\\n",
       "1     E7    P03129       E7    P06465   0.033        Weak        2   \n",
       "2     E7    P03129      RB1    P06400   1.000      Strong       11   \n",
       "3     E7    P03129     E2F3    O00716   0.026        Weak        2   \n",
       "4     E7    P03129     UBR4    Q5T4S7   0.216      Medium        6   \n",
       "5     E7    P03129  PRKAR1A    P10644   0.030        Weak        1   \n",
       "\n",
       "   Publications  \n",
       "1             2  \n",
       "2            18  \n",
       "3             2  \n",
       "4             3  \n",
       "5             1  "
      ]
     },
     "execution_count": 15,
     "metadata": {},
     "output_type": "execute_result"
    }
   ],
   "source": [
    "e7_interaction_score_df.head()"
   ]
  },
  {
   "cell_type": "markdown",
   "id": "74364d04-fbc9-471e-ad74-d76bb8397a1e",
   "metadata": {},
   "source": [
    "### Get Common Interactors"
   ]
  },
  {
   "cell_type": "code",
   "execution_count": 17,
   "id": "a489737b-0914-4cf2-b0c9-f65b5de7027b",
   "metadata": {},
   "outputs": [],
   "source": [
    "common_interactors_df = CytoNet.common_interactors(protein_a_df=oct4_interaction_score_df, protein_b_df=e7_interaction_score_df)"
   ]
  },
  {
   "cell_type": "code",
   "execution_count": 19,
   "id": "451dedd7-5766-45b9-84cc-d04f1f673c42",
   "metadata": {},
   "outputs": [
    {
     "name": "stdout",
     "output_type": "stream",
     "text": [
      "<class 'pandas.core.frame.DataFrame'>\n",
      "Int64Index: 86 entries, 4 to 324\n",
      "Data columns (total 8 columns):\n",
      " #   Column        Non-Null Count  Dtype  \n",
      "---  ------        --------------  -----  \n",
      " 0   Source        86 non-null     object \n",
      " 1   Source ID     86 non-null     object \n",
      " 2   Target        86 non-null     object \n",
      " 3   Target ID     86 non-null     object \n",
      " 4   Weight        86 non-null     float64\n",
      " 5   Interaction   86 non-null     object \n",
      " 6   Methods       86 non-null     int64  \n",
      " 7   Publications  86 non-null     int64  \n",
      "dtypes: float64(1), int64(2), object(5)\n",
      "memory usage: 6.0+ KB\n"
     ]
    }
   ],
   "source": [
    "common_interactors_df.info()"
   ]
  },
  {
   "cell_type": "code",
   "execution_count": 20,
   "id": "b51b121a-be77-4594-b99d-619d40ffdc92",
   "metadata": {},
   "outputs": [
    {
     "data": {
      "text/html": [
       "<div>\n",
       "<style scoped>\n",
       "    .dataframe tbody tr th:only-of-type {\n",
       "        vertical-align: middle;\n",
       "    }\n",
       "\n",
       "    .dataframe tbody tr th {\n",
       "        vertical-align: top;\n",
       "    }\n",
       "\n",
       "    .dataframe thead th {\n",
       "        text-align: right;\n",
       "    }\n",
       "</style>\n",
       "<table border=\"1\" class=\"dataframe\">\n",
       "  <thead>\n",
       "    <tr style=\"text-align: right;\">\n",
       "      <th></th>\n",
       "      <th>Source</th>\n",
       "      <th>Source ID</th>\n",
       "      <th>Target</th>\n",
       "      <th>Target ID</th>\n",
       "      <th>Weight</th>\n",
       "      <th>Interaction</th>\n",
       "      <th>Methods</th>\n",
       "      <th>Publications</th>\n",
       "    </tr>\n",
       "  </thead>\n",
       "  <tbody>\n",
       "    <tr>\n",
       "      <th>4</th>\n",
       "      <td>POU5F1</td>\n",
       "      <td>Q01860</td>\n",
       "      <td>E7</td>\n",
       "      <td>P03129</td>\n",
       "      <td>0.281</td>\n",
       "      <td>Weak</td>\n",
       "      <td>2</td>\n",
       "      <td>2</td>\n",
       "    </tr>\n",
       "    <tr>\n",
       "      <th>7</th>\n",
       "      <td>POU5F1</td>\n",
       "      <td>Q01860</td>\n",
       "      <td>WDR5</td>\n",
       "      <td>P61964</td>\n",
       "      <td>0.876</td>\n",
       "      <td>Strong</td>\n",
       "      <td>5</td>\n",
       "      <td>3</td>\n",
       "    </tr>\n",
       "    <tr>\n",
       "      <th>24</th>\n",
       "      <td>POU5F1</td>\n",
       "      <td>Q01860</td>\n",
       "      <td>MYC</td>\n",
       "      <td>P01106</td>\n",
       "      <td>0.116</td>\n",
       "      <td>Weak</td>\n",
       "      <td>2</td>\n",
       "      <td>1</td>\n",
       "    </tr>\n",
       "    <tr>\n",
       "      <th>32</th>\n",
       "      <td>POU5F1</td>\n",
       "      <td>Q01860</td>\n",
       "      <td>ACOT9</td>\n",
       "      <td>Q9Y305</td>\n",
       "      <td>0.063</td>\n",
       "      <td>Weak</td>\n",
       "      <td>1</td>\n",
       "      <td>1</td>\n",
       "    </tr>\n",
       "    <tr>\n",
       "      <th>47</th>\n",
       "      <td>POU5F1</td>\n",
       "      <td>Q01860</td>\n",
       "      <td>C14orf93</td>\n",
       "      <td>Q9H972</td>\n",
       "      <td>0.063</td>\n",
       "      <td>Weak</td>\n",
       "      <td>1</td>\n",
       "      <td>1</td>\n",
       "    </tr>\n",
       "  </tbody>\n",
       "</table>\n",
       "</div>"
      ],
      "text/plain": [
       "    Source Source ID    Target Target ID  Weight Interaction  Methods  \\\n",
       "4   POU5F1    Q01860        E7    P03129   0.281        Weak        2   \n",
       "7   POU5F1    Q01860      WDR5    P61964   0.876      Strong        5   \n",
       "24  POU5F1    Q01860       MYC    P01106   0.116        Weak        2   \n",
       "32  POU5F1    Q01860     ACOT9    Q9Y305   0.063        Weak        1   \n",
       "47  POU5F1    Q01860  C14orf93    Q9H972   0.063        Weak        1   \n",
       "\n",
       "    Publications  \n",
       "4              2  \n",
       "7              3  \n",
       "24             1  \n",
       "32             1  \n",
       "47             1  "
      ]
     },
     "execution_count": 20,
     "metadata": {},
     "output_type": "execute_result"
    }
   ],
   "source": [
    "common_interactors_df.head()"
   ]
  }
 ],
 "metadata": {
  "kernelspec": {
   "display_name": "Python 3 (ipykernel)",
   "language": "python",
   "name": "python3"
  },
  "language_info": {
   "codemirror_mode": {
    "name": "ipython",
    "version": 3
   },
   "file_extension": ".py",
   "mimetype": "text/x-python",
   "name": "python",
   "nbconvert_exporter": "python",
   "pygments_lexer": "ipython3",
   "version": "3.11.0"
  }
 },
 "nbformat": 4,
 "nbformat_minor": 5
}
