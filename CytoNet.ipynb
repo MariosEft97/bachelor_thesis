{
 "cells": [
  {
   "cell_type": "markdown",
   "id": "27a69612-39ec-44d9-9d9a-026e9f3a74bc",
   "metadata": {},
   "source": [
    "## Computational Analysis of virus-host protein interactions\n",
    "### A case study of HPV16 E7 oncogene and human POU5F1 transcription factor"
   ]
  },
  {
   "cell_type": "markdown",
   "id": "c6083885-b641-4c05-a100-164e19bf6bbc",
   "metadata": {},
   "source": [
    "### Load packages"
   ]
  },
  {
   "cell_type": "code",
   "execution_count": 1,
   "id": "633feff8-08bc-46d9-a11a-19309470a8bd",
   "metadata": {},
   "outputs": [],
   "source": [
    "import pandas as pd\n",
    "\n",
    "import CytoNet\n",
    "\n",
    "from importlib import reload\n",
    "\n",
    "import warnings\n",
    "warnings.filterwarnings(\"ignore\")"
   ]
  },
  {
   "cell_type": "markdown",
   "id": "48ab6f96-d994-4a25-b097-5a145788563a",
   "metadata": {},
   "source": [
    "### Reload packages (if changes were made)"
   ]
  },
  {
   "cell_type": "code",
   "execution_count": 30,
   "id": "5ff79eb6-667f-4546-b0b2-2db5d82e919c",
   "metadata": {},
   "outputs": [],
   "source": [
    "reload(CytoNet);"
   ]
  },
  {
   "cell_type": "markdown",
   "id": "53328c1e-4853-4858-b6c5-e856e77e2489",
   "metadata": {},
   "source": [
    "### Load data"
   ]
  },
  {
   "cell_type": "code",
   "execution_count": 3,
   "id": "a8fd36f1-b81d-44ba-910f-f970383125e5",
   "metadata": {},
   "outputs": [],
   "source": [
    "oct4_data_filepath = r'data\\oct4_data.txt'\n",
    "e7_data_filepath = r\"data\\e7_data.txt\""
   ]
  },
  {
   "cell_type": "code",
   "execution_count": 4,
   "id": "1a24287e-2edc-4496-9b8b-8e57ad001058",
   "metadata": {},
   "outputs": [],
   "source": [
    "# oct4_data_df = pd.read_csv(oct4_data_filepath, '\\t')\n",
    "# e7_data_df = pd.read_csv(e7_data_filepath, '\\t')"
   ]
  },
  {
   "cell_type": "code",
   "execution_count": 5,
   "id": "d35fba73-4fdb-4c7f-bba7-8125b74d77be",
   "metadata": {},
   "outputs": [],
   "source": [
    "oct4_datatable = CytoNet.reader(data_filepath=oct4_data_filepath)"
   ]
  },
  {
   "cell_type": "code",
   "execution_count": 6,
   "id": "493d37f0-32bf-4570-9602-9afe15ca434d",
   "metadata": {},
   "outputs": [],
   "source": [
    "e7_datatable = CytoNet.reader(data_filepath=e7_data_filepath)"
   ]
  },
  {
   "cell_type": "markdown",
   "id": "95663db2-be2f-4b74-afc4-9c30083c9758",
   "metadata": {},
   "source": [
    "### Calculate Interaction Scores"
   ]
  },
  {
   "cell_type": "code",
   "execution_count": 7,
   "id": "7cccb2ce-b50e-483c-888a-30b655a8390d",
   "metadata": {},
   "outputs": [],
   "source": [
    "oct4_interaction_score_df = CytoNet.calculator(datatable=oct4_datatable, protein=\"oct4\")"
   ]
  },
  {
   "cell_type": "code",
   "execution_count": 8,
   "id": "c029d9e2-7c55-4574-b262-d981f27b131a",
   "metadata": {},
   "outputs": [
    {
     "data": {
      "text/html": [
       "<div>\n",
       "<style scoped>\n",
       "    .dataframe tbody tr th:only-of-type {\n",
       "        vertical-align: middle;\n",
       "    }\n",
       "\n",
       "    .dataframe tbody tr th {\n",
       "        vertical-align: top;\n",
       "    }\n",
       "\n",
       "    .dataframe thead th {\n",
       "        text-align: right;\n",
       "    }\n",
       "</style>\n",
       "<table border=\"1\" class=\"dataframe\">\n",
       "  <thead>\n",
       "    <tr style=\"text-align: right;\">\n",
       "      <th></th>\n",
       "      <th>Source</th>\n",
       "      <th>Source ID</th>\n",
       "      <th>Target</th>\n",
       "      <th>Target ID</th>\n",
       "      <th>Weight</th>\n",
       "      <th>Interaction</th>\n",
       "      <th>Methods</th>\n",
       "      <th>Publications</th>\n",
       "    </tr>\n",
       "  </thead>\n",
       "  <tbody>\n",
       "    <tr>\n",
       "      <th>1</th>\n",
       "      <td>POU5F1</td>\n",
       "      <td>Q01860</td>\n",
       "      <td>WWP2</td>\n",
       "      <td>O00308</td>\n",
       "      <td>0.892</td>\n",
       "      <td>Strong</td>\n",
       "      <td>6</td>\n",
       "      <td>4</td>\n",
       "    </tr>\n",
       "    <tr>\n",
       "      <th>2</th>\n",
       "      <td>POU5F1</td>\n",
       "      <td>Q01860</td>\n",
       "      <td>UBE2E1</td>\n",
       "      <td>P51965</td>\n",
       "      <td>0.101</td>\n",
       "      <td>Weak</td>\n",
       "      <td>1</td>\n",
       "      <td>1</td>\n",
       "    </tr>\n",
       "    <tr>\n",
       "      <th>3</th>\n",
       "      <td>POU5F1</td>\n",
       "      <td>Q01860</td>\n",
       "      <td>E7</td>\n",
       "      <td>P03129</td>\n",
       "      <td>0.281</td>\n",
       "      <td>Weak</td>\n",
       "      <td>2</td>\n",
       "      <td>2</td>\n",
       "    </tr>\n",
       "    <tr>\n",
       "      <th>4</th>\n",
       "      <td>POU5F1</td>\n",
       "      <td>Q01860</td>\n",
       "      <td>FOXD3</td>\n",
       "      <td>Q9UJU5</td>\n",
       "      <td>0.295</td>\n",
       "      <td>Weak</td>\n",
       "      <td>4</td>\n",
       "      <td>1</td>\n",
       "    </tr>\n",
       "    <tr>\n",
       "      <th>5</th>\n",
       "      <td>POU5F1</td>\n",
       "      <td>Q01860</td>\n",
       "      <td>MNAT1</td>\n",
       "      <td>P51948</td>\n",
       "      <td>0.103</td>\n",
       "      <td>Weak</td>\n",
       "      <td>2</td>\n",
       "      <td>1</td>\n",
       "    </tr>\n",
       "  </tbody>\n",
       "</table>\n",
       "</div>"
      ],
      "text/plain": [
       "   Source Source ID  Target Target ID  Weight Interaction  Methods  \\\n",
       "1  POU5F1    Q01860    WWP2    O00308   0.892      Strong        6   \n",
       "2  POU5F1    Q01860  UBE2E1    P51965   0.101        Weak        1   \n",
       "3  POU5F1    Q01860      E7    P03129   0.281        Weak        2   \n",
       "4  POU5F1    Q01860   FOXD3    Q9UJU5   0.295        Weak        4   \n",
       "5  POU5F1    Q01860   MNAT1    P51948   0.103        Weak        2   \n",
       "\n",
       "   Publications  \n",
       "1             4  \n",
       "2             1  \n",
       "3             2  \n",
       "4             1  \n",
       "5             1  "
      ]
     },
     "execution_count": 8,
     "metadata": {},
     "output_type": "execute_result"
    }
   ],
   "source": [
    "oct4_interaction_score_df.head()"
   ]
  },
  {
   "cell_type": "code",
   "execution_count": 9,
   "id": "f281236b-944f-414b-b3e1-5063740f2136",
   "metadata": {},
   "outputs": [],
   "source": [
    "e7_interaction_score_df = CytoNet.calculator(datatable=e7_datatable, protein=\"e7\")"
   ]
  },
  {
   "cell_type": "code",
   "execution_count": 10,
   "id": "a9c1bf58-a227-4d80-8bbc-1637947887c7",
   "metadata": {},
   "outputs": [
    {
     "data": {
      "text/html": [
       "<div>\n",
       "<style scoped>\n",
       "    .dataframe tbody tr th:only-of-type {\n",
       "        vertical-align: middle;\n",
       "    }\n",
       "\n",
       "    .dataframe tbody tr th {\n",
       "        vertical-align: top;\n",
       "    }\n",
       "\n",
       "    .dataframe thead th {\n",
       "        text-align: right;\n",
       "    }\n",
       "</style>\n",
       "<table border=\"1\" class=\"dataframe\">\n",
       "  <thead>\n",
       "    <tr style=\"text-align: right;\">\n",
       "      <th></th>\n",
       "      <th>Source</th>\n",
       "      <th>Source ID</th>\n",
       "      <th>Target</th>\n",
       "      <th>Target ID</th>\n",
       "      <th>Weight</th>\n",
       "      <th>Interaction</th>\n",
       "      <th>Methods</th>\n",
       "      <th>Publications</th>\n",
       "    </tr>\n",
       "  </thead>\n",
       "  <tbody>\n",
       "    <tr>\n",
       "      <th>1</th>\n",
       "      <td>E7</td>\n",
       "      <td>P03129</td>\n",
       "      <td>E7</td>\n",
       "      <td>P06465</td>\n",
       "      <td>0.033</td>\n",
       "      <td>Weak</td>\n",
       "      <td>2</td>\n",
       "      <td>2</td>\n",
       "    </tr>\n",
       "    <tr>\n",
       "      <th>2</th>\n",
       "      <td>E7</td>\n",
       "      <td>P03129</td>\n",
       "      <td>RB1</td>\n",
       "      <td>P06400</td>\n",
       "      <td>1.000</td>\n",
       "      <td>Strong</td>\n",
       "      <td>11</td>\n",
       "      <td>18</td>\n",
       "    </tr>\n",
       "    <tr>\n",
       "      <th>3</th>\n",
       "      <td>E7</td>\n",
       "      <td>P03129</td>\n",
       "      <td>E2F3</td>\n",
       "      <td>O00716</td>\n",
       "      <td>0.026</td>\n",
       "      <td>Weak</td>\n",
       "      <td>2</td>\n",
       "      <td>2</td>\n",
       "    </tr>\n",
       "    <tr>\n",
       "      <th>4</th>\n",
       "      <td>E7</td>\n",
       "      <td>P03129</td>\n",
       "      <td>UBR4</td>\n",
       "      <td>Q5T4S7</td>\n",
       "      <td>0.216</td>\n",
       "      <td>Medium</td>\n",
       "      <td>6</td>\n",
       "      <td>3</td>\n",
       "    </tr>\n",
       "    <tr>\n",
       "      <th>5</th>\n",
       "      <td>E7</td>\n",
       "      <td>P03129</td>\n",
       "      <td>PRKAR1A</td>\n",
       "      <td>P10644</td>\n",
       "      <td>0.030</td>\n",
       "      <td>Weak</td>\n",
       "      <td>1</td>\n",
       "      <td>1</td>\n",
       "    </tr>\n",
       "  </tbody>\n",
       "</table>\n",
       "</div>"
      ],
      "text/plain": [
       "  Source Source ID   Target Target ID  Weight Interaction  Methods  \\\n",
       "1     E7    P03129       E7    P06465   0.033        Weak        2   \n",
       "2     E7    P03129      RB1    P06400   1.000      Strong       11   \n",
       "3     E7    P03129     E2F3    O00716   0.026        Weak        2   \n",
       "4     E7    P03129     UBR4    Q5T4S7   0.216      Medium        6   \n",
       "5     E7    P03129  PRKAR1A    P10644   0.030        Weak        1   \n",
       "\n",
       "   Publications  \n",
       "1             2  \n",
       "2            18  \n",
       "3             2  \n",
       "4             3  \n",
       "5             1  "
      ]
     },
     "execution_count": 10,
     "metadata": {},
     "output_type": "execute_result"
    }
   ],
   "source": [
    "e7_interaction_score_df.head()"
   ]
  },
  {
   "cell_type": "markdown",
   "id": "74364d04-fbc9-471e-ad74-d76bb8397a1e",
   "metadata": {},
   "source": [
    "### Get Common Interactors"
   ]
  },
  {
   "cell_type": "code",
   "execution_count": 11,
   "id": "a489737b-0914-4cf2-b0c9-f65b5de7027b",
   "metadata": {},
   "outputs": [],
   "source": [
    "common_interactors_df = CytoNet.common_interactors(protein_a_df=oct4_interaction_score_df, protein_b_df=e7_interaction_score_df)"
   ]
  },
  {
   "cell_type": "code",
   "execution_count": 12,
   "id": "451dedd7-5766-45b9-84cc-d04f1f673c42",
   "metadata": {},
   "outputs": [
    {
     "name": "stdout",
     "output_type": "stream",
     "text": [
      "<class 'pandas.core.frame.DataFrame'>\n",
      "Int64Index: 86 entries, 4 to 324\n",
      "Data columns (total 8 columns):\n",
      " #   Column        Non-Null Count  Dtype  \n",
      "---  ------        --------------  -----  \n",
      " 0   Source        86 non-null     object \n",
      " 1   Source ID     86 non-null     object \n",
      " 2   Target        86 non-null     object \n",
      " 3   Target ID     86 non-null     object \n",
      " 4   Weight        86 non-null     float64\n",
      " 5   Interaction   86 non-null     object \n",
      " 6   Methods       86 non-null     int64  \n",
      " 7   Publications  86 non-null     int64  \n",
      "dtypes: float64(1), int64(2), object(5)\n",
      "memory usage: 6.0+ KB\n"
     ]
    }
   ],
   "source": [
    "common_interactors_df.info()"
   ]
  },
  {
   "cell_type": "code",
   "execution_count": 13,
   "id": "b51b121a-be77-4594-b99d-619d40ffdc92",
   "metadata": {},
   "outputs": [
    {
     "data": {
      "text/html": [
       "<div>\n",
       "<style scoped>\n",
       "    .dataframe tbody tr th:only-of-type {\n",
       "        vertical-align: middle;\n",
       "    }\n",
       "\n",
       "    .dataframe tbody tr th {\n",
       "        vertical-align: top;\n",
       "    }\n",
       "\n",
       "    .dataframe thead th {\n",
       "        text-align: right;\n",
       "    }\n",
       "</style>\n",
       "<table border=\"1\" class=\"dataframe\">\n",
       "  <thead>\n",
       "    <tr style=\"text-align: right;\">\n",
       "      <th></th>\n",
       "      <th>Source</th>\n",
       "      <th>Source ID</th>\n",
       "      <th>Target</th>\n",
       "      <th>Target ID</th>\n",
       "      <th>Weight</th>\n",
       "      <th>Interaction</th>\n",
       "      <th>Methods</th>\n",
       "      <th>Publications</th>\n",
       "    </tr>\n",
       "  </thead>\n",
       "  <tbody>\n",
       "    <tr>\n",
       "      <th>4</th>\n",
       "      <td>POU5F1</td>\n",
       "      <td>Q01860</td>\n",
       "      <td>E7</td>\n",
       "      <td>P03129</td>\n",
       "      <td>0.281</td>\n",
       "      <td>Weak</td>\n",
       "      <td>2</td>\n",
       "      <td>2</td>\n",
       "    </tr>\n",
       "    <tr>\n",
       "      <th>7</th>\n",
       "      <td>POU5F1</td>\n",
       "      <td>Q01860</td>\n",
       "      <td>WDR5</td>\n",
       "      <td>P61964</td>\n",
       "      <td>0.876</td>\n",
       "      <td>Strong</td>\n",
       "      <td>5</td>\n",
       "      <td>3</td>\n",
       "    </tr>\n",
       "    <tr>\n",
       "      <th>24</th>\n",
       "      <td>POU5F1</td>\n",
       "      <td>Q01860</td>\n",
       "      <td>MYC</td>\n",
       "      <td>P01106</td>\n",
       "      <td>0.116</td>\n",
       "      <td>Weak</td>\n",
       "      <td>2</td>\n",
       "      <td>1</td>\n",
       "    </tr>\n",
       "    <tr>\n",
       "      <th>32</th>\n",
       "      <td>POU5F1</td>\n",
       "      <td>Q01860</td>\n",
       "      <td>ACOT9</td>\n",
       "      <td>Q9Y305</td>\n",
       "      <td>0.063</td>\n",
       "      <td>Weak</td>\n",
       "      <td>1</td>\n",
       "      <td>1</td>\n",
       "    </tr>\n",
       "    <tr>\n",
       "      <th>47</th>\n",
       "      <td>POU5F1</td>\n",
       "      <td>Q01860</td>\n",
       "      <td>C14orf93</td>\n",
       "      <td>Q9H972</td>\n",
       "      <td>0.063</td>\n",
       "      <td>Weak</td>\n",
       "      <td>1</td>\n",
       "      <td>1</td>\n",
       "    </tr>\n",
       "  </tbody>\n",
       "</table>\n",
       "</div>"
      ],
      "text/plain": [
       "    Source Source ID    Target Target ID  Weight Interaction  Methods  \\\n",
       "4   POU5F1    Q01860        E7    P03129   0.281        Weak        2   \n",
       "7   POU5F1    Q01860      WDR5    P61964   0.876      Strong        5   \n",
       "24  POU5F1    Q01860       MYC    P01106   0.116        Weak        2   \n",
       "32  POU5F1    Q01860     ACOT9    Q9Y305   0.063        Weak        1   \n",
       "47  POU5F1    Q01860  C14orf93    Q9H972   0.063        Weak        1   \n",
       "\n",
       "    Publications  \n",
       "4              2  \n",
       "7              3  \n",
       "24             1  \n",
       "32             1  \n",
       "47             1  "
      ]
     },
     "execution_count": 13,
     "metadata": {},
     "output_type": "execute_result"
    }
   ],
   "source": [
    "common_interactors_df.head()"
   ]
  },
  {
   "cell_type": "markdown",
   "id": "fa2f82d1-61b3-49eb-b8d0-5a56436e1c89",
   "metadata": {},
   "source": [
    "### Visualize Common Interactors Network"
   ]
  },
  {
   "cell_type": "code",
   "execution_count": 33,
   "id": "4ddf05aa-6462-4442-b712-1ed140b0c209",
   "metadata": {},
   "outputs": [
    {
     "data": {
      "text/html": [
       "<html>\n",
       "<head><meta charset=\"utf-8\" /></head>\n",
       "<body>\n",
       "    <div>            <script src=\"https://cdnjs.cloudflare.com/ajax/libs/mathjax/2.7.5/MathJax.js?config=TeX-AMS-MML_SVG\"></script><script type=\"text/javascript\">if (window.MathJax && window.MathJax.Hub && window.MathJax.Hub.Config) {window.MathJax.Hub.Config({SVG: {font: \"STIX-Web\"}});}</script>                <script type=\"text/javascript\">window.PlotlyConfig = {MathJaxConfig: 'local'};</script>\n",
       "        <script src=\"https://cdn.plot.ly/plotly-2.18.2.min.js\"></script>                <div id=\"5cf9cacb-93c1-461a-b2ae-195926e764ad\" class=\"plotly-graph-div\" style=\"height:525px; width:100%;\"></div>            <script type=\"text/javascript\">                                    window.PLOTLYENV=window.PLOTLYENV || {};                                    if (document.getElementById(\"5cf9cacb-93c1-461a-b2ae-195926e764ad\")) {                    Plotly.newPlot(                        \"5cf9cacb-93c1-461a-b2ae-195926e764ad\",                        [{\"hoverinfo\":\"text\",\"line\":{\"width\":0.5},\"mode\":\"lines\",\"text\":[\"0.042\",\"0.876\",\"0.116\",\"0.063\",\"0.063\",\"0.063\",\"0.063\",\"0.063\",\"0.304\",\"0.063\",\"0.129\",\"0.129\",\"0.063\",\"0.063\",\"0.063\",\"0.063\",\"0.063\",\"0.063\",\"0.063\",\"0.063\",\"0.346\",\"0.408\",\"0.312\",\"0.408\",\"0.612\",\"0.095\",\"0.58\",\"0.305\",\"0.254\",\"0.254\",\"0.095\",\"0.322\",\"0.052\",\"0.052\",\"0.052\",\"0.052\",\"0.052\",\"0.052\",\"0.052\",\"0.052\",\"0.052\",\"0.052\",\"0.052\",\"0.033\",\"0.216\",\"0.144\",\"0.006\",\"0.017\",\"0.127\",\"0.017\",\"0.004\",\"0.029\",\"0.007\",\"0.02\",\"0.019\",\"0.005\",\"0.007\",\"0.007\",\"0.076\",\"0.064\",\"0.007\",\"0.08\",\"0.055\",\"0.013\",\"0.021\",\"0.013\",\"0.018\",\"0.055\",\"0.031\",\"0.026\",\"0.016\",\"0.026\",\"0.016\",\"0.016\",\"0.016\",\"0.016\",\"0.002\",\"0.016\",\"0.005\",\"0.008\",\"0.008\",\"0.001\",\"0.001\",\"0.0\",\"0.0\"],\"x\":[0.02464797338195169,-0.13257722337590844,null,0.02464797338195169,0.06972547918375166,null,0.02464797338195169,-0.4091286161884232,null,0.02464797338195169,0.745492445804239,null,0.02464797338195169,0.9274605957938964,null,0.02464797338195169,-0.35080554010116144,null,0.02464797338195169,-0.4716660419227405,null,0.02464797338195169,-0.5473840331527251,null,0.02464797338195169,0.02464797338195169,null,0.02464797338195169,0.6069008196131356,null,0.02464797338195169,0.38431324193951566,null,0.02464797338195169,0.10949620349294985,null,0.02464797338195169,-0.8272661525641118,null,0.02464797338195169,0.07757355426009215,null,0.02464797338195169,-0.37842601937697906,null,0.02464797338195169,-0.5401095885148086,null,0.02464797338195169,-0.20118271771024968,null,0.02464797338195169,-0.4623359053056561,null,0.02464797338195169,0.3671320847089968,null,0.02464797338195169,0.6533624147845193,null,0.02464797338195169,-0.1010590604776846,null,0.02464797338195169,0.15643502820692404,null,0.02464797338195169,0.12142769080500612,null,0.02464797338195169,-0.17884452418300698,null,0.02464797338195169,0.03598666011574894,null,0.02464797338195169,0.455514045512693,null,0.02464797338195169,0.235162806310215,null,0.02464797338195169,-0.2501486165869293,null,0.02464797338195169,0.4227614151650215,null,0.02464797338195169,0.005568291434248836,null,0.02464797338195169,-0.3125154648654008,null,0.02464797338195169,0.2761078350081407,null,0.02464797338195169,-0.7312255973737497,null,0.02464797338195169,0.4125649017478599,null,0.02464797338195169,0.6837889412600416,null,0.02464797338195169,0.8151786029613254,null,0.02464797338195169,0.8808853162403941,null,0.02464797338195169,0.023235686748838084,null,0.02464797338195169,-0.7436119841456017,null,0.02464797338195169,-0.23026339696544515,null,0.02464797338195169,-0.9722443801333718,null,0.02464797338195169,-0.8304951698113946,null,0.02464797338195169,0.18056799827584247,null,-0.13257722337590844,-0.13257722337590844,null,-0.13257722337590844,-0.4623359053056561,null,-0.13257722337590844,-0.5473840331527251,null,-0.13257722337590844,0.3671320847089968,null,-0.13257722337590844,0.38431324193951566,null,-0.13257722337590844,-0.4716660419227405,null,-0.13257722337590844,0.235162806310215,null,-0.13257722337590844,0.9274605957938964,null,-0.13257722337590844,-0.35080554010116144,null,-0.13257722337590844,-0.9722443801333718,null,-0.13257722337590844,0.4125649017478599,null,-0.13257722337590844,0.8151786029613254,null,-0.13257722337590844,0.06972547918375166,null,-0.13257722337590844,0.6837889412600416,null,-0.13257722337590844,-0.7436119841456017,null,-0.13257722337590844,-0.4091286161884232,null,-0.13257722337590844,-0.2501486165869293,null,-0.13257722337590844,0.745492445804239,null,-0.13257722337590844,0.455514045512693,null,-0.13257722337590844,-0.7312255973737497,null,-0.13257722337590844,0.8808853162403941,null,-0.13257722337590844,0.6533624147845193,null,-0.13257722337590844,0.03598666011574894,null,-0.13257722337590844,-0.37842601937697906,null,-0.13257722337590844,-0.17884452418300698,null,-0.13257722337590844,0.2761078350081407,null,-0.13257722337590844,0.18056799827584247,null,-0.13257722337590844,0.4227614151650215,null,-0.13257722337590844,0.15643502820692404,null,-0.13257722337590844,0.023235686748838084,null,-0.13257722337590844,-0.3125154648654008,null,-0.13257722337590844,0.005568291434248836,null,-0.13257722337590844,0.12142769080500612,null,-0.13257722337590844,-0.20118271771024968,null,-0.13257722337590844,-0.1010590604776846,null,-0.13257722337590844,0.07757355426009215,null,-0.13257722337590844,0.6069008196131356,null,-0.13257722337590844,-0.8272661525641118,null,-0.13257722337590844,-0.5401095885148086,null,-0.13257722337590844,0.10949620349294985,null,-0.13257722337590844,-0.23026339696544515,null,-0.13257722337590844,-0.8304951698113946,null],\"y\":[0.016142476043228923,-0.06508596236906691,null,0.016142476043228923,0.17121415660928663,null,0.016142476043228923,0.30288511441479604,null,0.016142476043228923,-0.4439384890812852,null,0.016142476043228923,0.026508928400819025,null,0.016142476043228923,0.6153287609571912,null,0.016142476043228923,-0.3318867049588764,null,0.016142476043228923,0.07344137773593731,null,0.016142476043228923,0.016142476043228923,null,0.016142476043228923,0.6743412172642581,null,0.016142476043228923,0.4105146806678761,null,0.016142476043228923,0.6084445740368677,null,0.016142476043228923,0.2621668704502785,null,0.016142476043228923,0.9141809097000979,null,0.016142476043228923,-0.7382486742412796,null,0.016142476043228923,0.7652555033827627,null,0.016142476043228923,0.9090771445000337,null,0.016142476043228923,-0.1141140863195344,null,0.016142476043228923,0.8384075113676274,null,0.016142476043228923,0.3869587102064032,null,0.016142476043228923,0.3178246568371559,null,0.016142476043228923,-0.2706857925288978,null,0.016142476043228923,0.34616212842250266,null,0.016142476043228923,-0.20571208418306972,null,0.016142476043228923,-0.167699042545158,null,0.016142476043228923,0.07478396445969301,null,0.016142476043228923,0.08697722262732321,null,0.016142476043228923,0.15027151308478193,null,0.016142476043228923,-0.1368281495410721,null,0.016142476043228923,-0.4031939159867537,null,0.016142476043228923,-0.5396641836717588,null,0.016142476043228923,-0.1707427568341356,null,0.016142476043228923,-0.25965219173937204,null,0.016142476043228923,-0.7366420553896872,null,0.016142476043228923,-0.700941890586071,null,0.016142476043228923,-0.21822493333932302,null,0.016142476043228923,0.3067501539955763,null,0.016142476043228923,-0.8985524886817631,null,0.016142476043228923,-0.6233706839958012,null,0.016142476043228923,-1.0,null,0.016142476043228923,-0.06261283002515251,null,0.016142476043228923,0.5890747606936598,null,0.016142476043228923,-0.7589154198401007,null,-0.06508596236906691,-0.06508596236906691,null,-0.06508596236906691,-0.1141140863195344,null,-0.06508596236906691,0.07344137773593731,null,-0.06508596236906691,0.8384075113676274,null,-0.06508596236906691,0.4105146806678761,null,-0.06508596236906691,-0.3318867049588764,null,-0.06508596236906691,0.08697722262732321,null,-0.06508596236906691,0.026508928400819025,null,-0.06508596236906691,0.6153287609571912,null,-0.06508596236906691,-0.06261283002515251,null,-0.06508596236906691,-0.7366420553896872,null,-0.06508596236906691,-0.21822493333932302,null,-0.06508596236906691,0.17121415660928663,null,-0.06508596236906691,-0.700941890586071,null,-0.06508596236906691,-0.6233706839958012,null,-0.06508596236906691,0.30288511441479604,null,-0.06508596236906691,0.15027151308478193,null,-0.06508596236906691,-0.4439384890812852,null,-0.06508596236906691,0.07478396445969301,null,-0.06508596236906691,-0.25965219173937204,null,-0.06508596236906691,0.3067501539955763,null,-0.06508596236906691,0.3869587102064032,null,-0.06508596236906691,-0.167699042545158,null,-0.06508596236906691,-0.7382486742412796,null,-0.06508596236906691,-0.20571208418306972,null,-0.06508596236906691,-0.1707427568341356,null,-0.06508596236906691,-0.7589154198401007,null,-0.06508596236906691,-0.1368281495410721,null,-0.06508596236906691,-0.2706857925288978,null,-0.06508596236906691,-0.8985524886817631,null,-0.06508596236906691,-0.5396641836717588,null,-0.06508596236906691,-0.4031939159867537,null,-0.06508596236906691,0.34616212842250266,null,-0.06508596236906691,0.9090771445000337,null,-0.06508596236906691,0.3178246568371559,null,-0.06508596236906691,0.9141809097000979,null,-0.06508596236906691,0.6743412172642581,null,-0.06508596236906691,0.2621668704502785,null,-0.06508596236906691,0.7652555033827627,null,-0.06508596236906691,0.6084445740368677,null,-0.06508596236906691,-1.0,null,-0.06508596236906691,0.5890747606936598,null],\"type\":\"scatter\"},{\"hoverinfo\":\"text\",\"marker\":{\"color\":[43,43,2,2,2,2,2,2,2,2,2,2,2,2,2,2,2,2,2,2,2,2,2,2,2,2,2,2,2,2,2,2,2,2,2,2,2,2,2,2,2,2,2],\"colorbar\":{\"thickness\":15,\"title\":{\"side\":\"right\",\"text\":\"Protein Interactors\"},\"xanchor\":\"left\"},\"colorscale\":[[0.0,\"rgb(255,255,217)\"],[0.125,\"rgb(237,248,177)\"],[0.25,\"rgb(199,233,180)\"],[0.375,\"rgb(127,205,187)\"],[0.5,\"rgb(65,182,196)\"],[0.625,\"rgb(29,145,192)\"],[0.75,\"rgb(34,94,168)\"],[0.875,\"rgb(37,52,148)\"],[1.0,\"rgb(8,29,88)\"]],\"line\":{\"width\":2},\"reversescale\":true,\"showscale\":true,\"size\":20},\"mode\":\"markers\",\"text\":[\"POU5F1 --- POU5F1: 0.304<br>POU5F1 --- E7: 0.042\",\"E7 --- POU5F1: 0.042<br>E7 --- E7: 0.033\",\"WDR5 --- POU5F1: 0.876<br>WDR5 --- E7: 0.005\",\"MYC --- POU5F1: 0.116<br>MYC --- E7: 0.076\",\"ACOT9 --- POU5F1: 0.063<br>ACOT9 --- E7: 0.007\",\"C14orf93 --- POU5F1: 0.063<br>C14orf93 --- E7: 0.004\",\"COPA --- POU5F1: 0.063<br>COPA --- E7: 0.029\",\"DNAJA3 --- POU5F1: 0.063<br>DNAJA3 --- E7: 0.127\",\"KCMF1 --- POU5F1: 0.063<br>KCMF1 --- E7: 0.144\",\"PSMB2 --- POU5F1: 0.063<br>PSMB2 --- E7: 0.008\",\"RBM4 --- POU5F1: 0.129<br>RBM4 --- E7: 0.017\",\"SMARCC2 --- POU5F1: 0.129<br>SMARCC2 --- E7: 0.001\",\"SNRPB2 --- POU5F1: 0.063<br>SNRPB2 --- E7: 0.008\",\"SRP9 --- POU5F1: 0.063<br>SRP9 --- E7: 0.005\",\"ELOC --- POU5F1: 0.063<br>ELOC --- E7: 0.018\",\"TCF20 --- POU5F1: 0.063<br>TCF20 --- E7: 0.001\",\"TUBG1 --- POU5F1: 0.063<br>TUBG1 --- E7: 0.002\",\"UBR4 --- POU5F1: 0.063<br>UBR4 --- E7: 0.216\",\"UBR5 --- POU5F1: 0.063<br>UBR5 --- E7: 0.006\",\"ZGPAT --- POU5F1: 0.063<br>ZGPAT --- E7: 0.021\",\"RBBP7 --- POU5F1: 0.346<br>RBBP7 --- E7: 0.016\",\"KDM1A --- POU5F1: 0.408<br>KDM1A --- E7: 0.026\",\"SMARCA4 --- POU5F1: 0.312<br>SMARCA4 --- E7: 0.016\",\"HDAC1 --- POU5F1: 0.408<br>HDAC1 --- E7: 0.055\",\"CHD4 --- POU5F1: 0.612<br>CHD4 --- E7: 0.013\",\"PPP2R1A --- POU5F1: 0.095<br>PPP2R1A --- E7: 0.08\",\"GATAD2B --- POU5F1: 0.58<br>GATAD2B --- E7: 0.017\",\"PKM --- POU5F1: 0.305<br>PKM --- E7: 0.064\",\"CDK1 --- POU5F1: 0.254<br>CDK1 --- E7: 0.016\",\"SMAD3 --- POU5F1: 0.254<br>SMAD3 --- E7: 0.016\",\"PML --- POU5F1: 0.095<br>PML --- E7: 0.016\",\"HDAC2 --- POU5F1: 0.322<br>HDAC2 --- E7: 0.031\",\"CREBBP --- POU5F1: 0.052<br>CREBBP --- E7: 0.055\",\"AP2M1 --- POU5F1: 0.052<br>AP2M1 --- E7: 0.02\",\"CCT3 --- POU5F1: 0.052<br>CCT3 --- E7: 0.007\",\"CSNK2A1 --- POU5F1: 0.052<br>CSNK2A1 --- E7: 0.019\",\"FUBP3 --- POU5F1: 0.052<br>FUBP3 --- E7: 0.013\",\"NUMA1 --- POU5F1: 0.052<br>NUMA1 --- E7: 0.016\",\"PAK4 --- POU5F1: 0.052<br>PAK4 --- E7: 0.007\",\"PPP1CA --- POU5F1: 0.052<br>PPP1CA --- E7: 0.0\",\"SAP30BP --- POU5F1: 0.052<br>SAP30BP --- E7: 0.007\",\"TAOK1 --- POU5F1: 0.052<br>TAOK1 --- E7: 0.0\",\"TBP --- POU5F1: 0.052<br>TBP --- E7: 0.026\"],\"x\":[0.02464797338195169,-0.13257722337590844,0.06972547918375166,-0.4091286161884232,0.745492445804239,0.9274605957938964,-0.35080554010116144,-0.4716660419227405,-0.5473840331527251,0.6069008196131356,0.38431324193951566,0.10949620349294985,-0.8272661525641118,0.07757355426009215,-0.37842601937697906,-0.5401095885148086,-0.20118271771024968,-0.4623359053056561,0.3671320847089968,0.6533624147845193,-0.1010590604776846,0.15643502820692404,0.12142769080500612,-0.17884452418300698,0.03598666011574894,0.455514045512693,0.235162806310215,-0.2501486165869293,0.4227614151650215,0.005568291434248836,-0.3125154648654008,0.2761078350081407,-0.7312255973737497,0.4125649017478599,0.6837889412600416,0.8151786029613254,0.8808853162403941,0.023235686748838084,-0.7436119841456017,-0.23026339696544515,-0.9722443801333718,-0.8304951698113946,0.18056799827584247],\"y\":[0.016142476043228923,-0.06508596236906691,0.17121415660928663,0.30288511441479604,-0.4439384890812852,0.026508928400819025,0.6153287609571912,-0.3318867049588764,0.07344137773593731,0.6743412172642581,0.4105146806678761,0.6084445740368677,0.2621668704502785,0.9141809097000979,-0.7382486742412796,0.7652555033827627,0.9090771445000337,-0.1141140863195344,0.8384075113676274,0.3869587102064032,0.3178246568371559,-0.2706857925288978,0.34616212842250266,-0.20571208418306972,-0.167699042545158,0.07478396445969301,0.08697722262732321,0.15027151308478193,-0.1368281495410721,-0.4031939159867537,-0.5396641836717588,-0.1707427568341356,-0.25965219173937204,-0.7366420553896872,-0.700941890586071,-0.21822493333932302,0.3067501539955763,-0.8985524886817631,-0.6233706839958012,-1.0,-0.06261283002515251,0.5890747606936598,-0.7589154198401007],\"type\":\"scatter\"}],                        {\"hovermode\":\"closest\",\"margin\":{\"b\":20,\"l\":5,\"r\":5,\"t\":40},\"showlegend\":false,\"title\":{\"font\":{\"size\":16},\"text\":\"<br>POU5F1 & E7 common protein interactors\"},\"xaxis\":{\"showgrid\":false,\"showticklabels\":false,\"zeroline\":false},\"yaxis\":{\"showgrid\":false,\"showticklabels\":false,\"zeroline\":false},\"template\":{\"data\":{\"histogram2dcontour\":[{\"type\":\"histogram2dcontour\",\"colorbar\":{\"outlinewidth\":0,\"ticks\":\"\"},\"colorscale\":[[0.0,\"#0d0887\"],[0.1111111111111111,\"#46039f\"],[0.2222222222222222,\"#7201a8\"],[0.3333333333333333,\"#9c179e\"],[0.4444444444444444,\"#bd3786\"],[0.5555555555555556,\"#d8576b\"],[0.6666666666666666,\"#ed7953\"],[0.7777777777777778,\"#fb9f3a\"],[0.8888888888888888,\"#fdca26\"],[1.0,\"#f0f921\"]]}],\"choropleth\":[{\"type\":\"choropleth\",\"colorbar\":{\"outlinewidth\":0,\"ticks\":\"\"}}],\"histogram2d\":[{\"type\":\"histogram2d\",\"colorbar\":{\"outlinewidth\":0,\"ticks\":\"\"},\"colorscale\":[[0.0,\"#0d0887\"],[0.1111111111111111,\"#46039f\"],[0.2222222222222222,\"#7201a8\"],[0.3333333333333333,\"#9c179e\"],[0.4444444444444444,\"#bd3786\"],[0.5555555555555556,\"#d8576b\"],[0.6666666666666666,\"#ed7953\"],[0.7777777777777778,\"#fb9f3a\"],[0.8888888888888888,\"#fdca26\"],[1.0,\"#f0f921\"]]}],\"heatmap\":[{\"type\":\"heatmap\",\"colorbar\":{\"outlinewidth\":0,\"ticks\":\"\"},\"colorscale\":[[0.0,\"#0d0887\"],[0.1111111111111111,\"#46039f\"],[0.2222222222222222,\"#7201a8\"],[0.3333333333333333,\"#9c179e\"],[0.4444444444444444,\"#bd3786\"],[0.5555555555555556,\"#d8576b\"],[0.6666666666666666,\"#ed7953\"],[0.7777777777777778,\"#fb9f3a\"],[0.8888888888888888,\"#fdca26\"],[1.0,\"#f0f921\"]]}],\"heatmapgl\":[{\"type\":\"heatmapgl\",\"colorbar\":{\"outlinewidth\":0,\"ticks\":\"\"},\"colorscale\":[[0.0,\"#0d0887\"],[0.1111111111111111,\"#46039f\"],[0.2222222222222222,\"#7201a8\"],[0.3333333333333333,\"#9c179e\"],[0.4444444444444444,\"#bd3786\"],[0.5555555555555556,\"#d8576b\"],[0.6666666666666666,\"#ed7953\"],[0.7777777777777778,\"#fb9f3a\"],[0.8888888888888888,\"#fdca26\"],[1.0,\"#f0f921\"]]}],\"contourcarpet\":[{\"type\":\"contourcarpet\",\"colorbar\":{\"outlinewidth\":0,\"ticks\":\"\"}}],\"contour\":[{\"type\":\"contour\",\"colorbar\":{\"outlinewidth\":0,\"ticks\":\"\"},\"colorscale\":[[0.0,\"#0d0887\"],[0.1111111111111111,\"#46039f\"],[0.2222222222222222,\"#7201a8\"],[0.3333333333333333,\"#9c179e\"],[0.4444444444444444,\"#bd3786\"],[0.5555555555555556,\"#d8576b\"],[0.6666666666666666,\"#ed7953\"],[0.7777777777777778,\"#fb9f3a\"],[0.8888888888888888,\"#fdca26\"],[1.0,\"#f0f921\"]]}],\"surface\":[{\"type\":\"surface\",\"colorbar\":{\"outlinewidth\":0,\"ticks\":\"\"},\"colorscale\":[[0.0,\"#0d0887\"],[0.1111111111111111,\"#46039f\"],[0.2222222222222222,\"#7201a8\"],[0.3333333333333333,\"#9c179e\"],[0.4444444444444444,\"#bd3786\"],[0.5555555555555556,\"#d8576b\"],[0.6666666666666666,\"#ed7953\"],[0.7777777777777778,\"#fb9f3a\"],[0.8888888888888888,\"#fdca26\"],[1.0,\"#f0f921\"]]}],\"mesh3d\":[{\"type\":\"mesh3d\",\"colorbar\":{\"outlinewidth\":0,\"ticks\":\"\"}}],\"scatter\":[{\"fillpattern\":{\"fillmode\":\"overlay\",\"size\":10,\"solidity\":0.2},\"type\":\"scatter\"}],\"parcoords\":[{\"type\":\"parcoords\",\"line\":{\"colorbar\":{\"outlinewidth\":0,\"ticks\":\"\"}}}],\"scatterpolargl\":[{\"type\":\"scatterpolargl\",\"marker\":{\"colorbar\":{\"outlinewidth\":0,\"ticks\":\"\"}}}],\"bar\":[{\"error_x\":{\"color\":\"#2a3f5f\"},\"error_y\":{\"color\":\"#2a3f5f\"},\"marker\":{\"line\":{\"color\":\"#E5ECF6\",\"width\":0.5},\"pattern\":{\"fillmode\":\"overlay\",\"size\":10,\"solidity\":0.2}},\"type\":\"bar\"}],\"scattergeo\":[{\"type\":\"scattergeo\",\"marker\":{\"colorbar\":{\"outlinewidth\":0,\"ticks\":\"\"}}}],\"scatterpolar\":[{\"type\":\"scatterpolar\",\"marker\":{\"colorbar\":{\"outlinewidth\":0,\"ticks\":\"\"}}}],\"histogram\":[{\"marker\":{\"pattern\":{\"fillmode\":\"overlay\",\"size\":10,\"solidity\":0.2}},\"type\":\"histogram\"}],\"scattergl\":[{\"type\":\"scattergl\",\"marker\":{\"colorbar\":{\"outlinewidth\":0,\"ticks\":\"\"}}}],\"scatter3d\":[{\"type\":\"scatter3d\",\"line\":{\"colorbar\":{\"outlinewidth\":0,\"ticks\":\"\"}},\"marker\":{\"colorbar\":{\"outlinewidth\":0,\"ticks\":\"\"}}}],\"scattermapbox\":[{\"type\":\"scattermapbox\",\"marker\":{\"colorbar\":{\"outlinewidth\":0,\"ticks\":\"\"}}}],\"scatterternary\":[{\"type\":\"scatterternary\",\"marker\":{\"colorbar\":{\"outlinewidth\":0,\"ticks\":\"\"}}}],\"scattercarpet\":[{\"type\":\"scattercarpet\",\"marker\":{\"colorbar\":{\"outlinewidth\":0,\"ticks\":\"\"}}}],\"carpet\":[{\"aaxis\":{\"endlinecolor\":\"#2a3f5f\",\"gridcolor\":\"white\",\"linecolor\":\"white\",\"minorgridcolor\":\"white\",\"startlinecolor\":\"#2a3f5f\"},\"baxis\":{\"endlinecolor\":\"#2a3f5f\",\"gridcolor\":\"white\",\"linecolor\":\"white\",\"minorgridcolor\":\"white\",\"startlinecolor\":\"#2a3f5f\"},\"type\":\"carpet\"}],\"table\":[{\"cells\":{\"fill\":{\"color\":\"#EBF0F8\"},\"line\":{\"color\":\"white\"}},\"header\":{\"fill\":{\"color\":\"#C8D4E3\"},\"line\":{\"color\":\"white\"}},\"type\":\"table\"}],\"barpolar\":[{\"marker\":{\"line\":{\"color\":\"#E5ECF6\",\"width\":0.5},\"pattern\":{\"fillmode\":\"overlay\",\"size\":10,\"solidity\":0.2}},\"type\":\"barpolar\"}],\"pie\":[{\"automargin\":true,\"type\":\"pie\"}]},\"layout\":{\"autotypenumbers\":\"strict\",\"colorway\":[\"#636efa\",\"#EF553B\",\"#00cc96\",\"#ab63fa\",\"#FFA15A\",\"#19d3f3\",\"#FF6692\",\"#B6E880\",\"#FF97FF\",\"#FECB52\"],\"font\":{\"color\":\"#2a3f5f\"},\"hovermode\":\"closest\",\"hoverlabel\":{\"align\":\"left\"},\"paper_bgcolor\":\"white\",\"plot_bgcolor\":\"#E5ECF6\",\"polar\":{\"bgcolor\":\"#E5ECF6\",\"angularaxis\":{\"gridcolor\":\"white\",\"linecolor\":\"white\",\"ticks\":\"\"},\"radialaxis\":{\"gridcolor\":\"white\",\"linecolor\":\"white\",\"ticks\":\"\"}},\"ternary\":{\"bgcolor\":\"#E5ECF6\",\"aaxis\":{\"gridcolor\":\"white\",\"linecolor\":\"white\",\"ticks\":\"\"},\"baxis\":{\"gridcolor\":\"white\",\"linecolor\":\"white\",\"ticks\":\"\"},\"caxis\":{\"gridcolor\":\"white\",\"linecolor\":\"white\",\"ticks\":\"\"}},\"coloraxis\":{\"colorbar\":{\"outlinewidth\":0,\"ticks\":\"\"}},\"colorscale\":{\"sequential\":[[0.0,\"#0d0887\"],[0.1111111111111111,\"#46039f\"],[0.2222222222222222,\"#7201a8\"],[0.3333333333333333,\"#9c179e\"],[0.4444444444444444,\"#bd3786\"],[0.5555555555555556,\"#d8576b\"],[0.6666666666666666,\"#ed7953\"],[0.7777777777777778,\"#fb9f3a\"],[0.8888888888888888,\"#fdca26\"],[1.0,\"#f0f921\"]],\"sequentialminus\":[[0.0,\"#0d0887\"],[0.1111111111111111,\"#46039f\"],[0.2222222222222222,\"#7201a8\"],[0.3333333333333333,\"#9c179e\"],[0.4444444444444444,\"#bd3786\"],[0.5555555555555556,\"#d8576b\"],[0.6666666666666666,\"#ed7953\"],[0.7777777777777778,\"#fb9f3a\"],[0.8888888888888888,\"#fdca26\"],[1.0,\"#f0f921\"]],\"diverging\":[[0,\"#8e0152\"],[0.1,\"#c51b7d\"],[0.2,\"#de77ae\"],[0.3,\"#f1b6da\"],[0.4,\"#fde0ef\"],[0.5,\"#f7f7f7\"],[0.6,\"#e6f5d0\"],[0.7,\"#b8e186\"],[0.8,\"#7fbc41\"],[0.9,\"#4d9221\"],[1,\"#276419\"]]},\"xaxis\":{\"gridcolor\":\"white\",\"linecolor\":\"white\",\"ticks\":\"\",\"title\":{\"standoff\":15},\"zerolinecolor\":\"white\",\"automargin\":true,\"zerolinewidth\":2},\"yaxis\":{\"gridcolor\":\"white\",\"linecolor\":\"white\",\"ticks\":\"\",\"title\":{\"standoff\":15},\"zerolinecolor\":\"white\",\"automargin\":true,\"zerolinewidth\":2},\"scene\":{\"xaxis\":{\"backgroundcolor\":\"#E5ECF6\",\"gridcolor\":\"white\",\"linecolor\":\"white\",\"showbackground\":true,\"ticks\":\"\",\"zerolinecolor\":\"white\",\"gridwidth\":2},\"yaxis\":{\"backgroundcolor\":\"#E5ECF6\",\"gridcolor\":\"white\",\"linecolor\":\"white\",\"showbackground\":true,\"ticks\":\"\",\"zerolinecolor\":\"white\",\"gridwidth\":2},\"zaxis\":{\"backgroundcolor\":\"#E5ECF6\",\"gridcolor\":\"white\",\"linecolor\":\"white\",\"showbackground\":true,\"ticks\":\"\",\"zerolinecolor\":\"white\",\"gridwidth\":2}},\"shapedefaults\":{\"line\":{\"color\":\"#2a3f5f\"}},\"annotationdefaults\":{\"arrowcolor\":\"#2a3f5f\",\"arrowhead\":0,\"arrowwidth\":1},\"geo\":{\"bgcolor\":\"white\",\"landcolor\":\"#E5ECF6\",\"subunitcolor\":\"white\",\"showland\":true,\"showlakes\":true,\"lakecolor\":\"white\"},\"title\":{\"x\":0.05},\"mapbox\":{\"style\":\"light\"}}}},                        {\"responsive\": true}                    ).then(function(){\n",
       "                            \n",
       "var gd = document.getElementById('5cf9cacb-93c1-461a-b2ae-195926e764ad');\n",
       "var x = new MutationObserver(function (mutations, observer) {{\n",
       "        var display = window.getComputedStyle(gd).display;\n",
       "        if (!display || display === 'none') {{\n",
       "            console.log([gd, 'removed!']);\n",
       "            Plotly.purge(gd);\n",
       "            observer.disconnect();\n",
       "        }}\n",
       "}});\n",
       "\n",
       "// Listen for the removal of the full notebook cells\n",
       "var notebookContainer = gd.closest('#notebook-container');\n",
       "if (notebookContainer) {{\n",
       "    x.observe(notebookContainer, {childList: true});\n",
       "}}\n",
       "\n",
       "// Listen for the clearing of the current output cell\n",
       "var outputEl = gd.closest('.output');\n",
       "if (outputEl) {{\n",
       "    x.observe(outputEl, {childList: true});\n",
       "}}\n",
       "\n",
       "                        })                };                            </script>        </div>\n",
       "</body>\n",
       "</html>"
      ]
     },
     "metadata": {},
     "output_type": "display_data"
    }
   ],
   "source": [
    "CytoNet.common_interactor_network(df=common_interactors_df)"
   ]
  },
  {
   "cell_type": "code",
   "execution_count": null,
   "id": "458f789a-de7c-4b03-83c1-c53e779e15fb",
   "metadata": {},
   "outputs": [],
   "source": []
  }
 ],
 "metadata": {
  "kernelspec": {
   "display_name": "Python 3 (ipykernel)",
   "language": "python",
   "name": "python3"
  },
  "language_info": {
   "codemirror_mode": {
    "name": "ipython",
    "version": 3
   },
   "file_extension": ".py",
   "mimetype": "text/x-python",
   "name": "python",
   "nbconvert_exporter": "python",
   "pygments_lexer": "ipython3",
   "version": "3.11.0"
  }
 },
 "nbformat": 4,
 "nbformat_minor": 5
}
